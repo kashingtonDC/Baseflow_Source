{
 "cells": [
  {
   "cell_type": "code",
   "execution_count": 1,
   "id": "761b65c9",
   "metadata": {},
   "outputs": [],
   "source": [
    "import os\n",
    "import datetime\n",
    "import numpy as np\n",
    "import pandas as pd\n",
    "import seaborn as sns\n",
    "import rasterio as rio\n",
    "import geopandas as gp\n",
    "\n",
    "import fiona \n",
    "import rasterio\n",
    "import rasterio.mask\n",
    "\n",
    "import matplotlib.ticker as mticker\n",
    "import matplotlib.patches as mpatches\n",
    "import matplotlib.dates as mdates\n",
    "\n",
    "from rasterio.mask import mask\n",
    "\n",
    "from osgeo import gdal, osr, ogr\n",
    "from tqdm import tqdm"
   ]
  },
  {
   "cell_type": "code",
   "execution_count": 2,
   "id": "5c263be1",
   "metadata": {},
   "outputs": [],
   "source": [
    "def write_raster(array,gdf,outfn):\n",
    "\t'''\n",
    "\tconverts a numpy array and a geopandas gdf to a geotiff\n",
    "\tData values are stored in np.array\n",
    "\tspatial coordinates stored in gdf\n",
    "\toutfn - outpath\n",
    "\t'''\n",
    "\n",
    "\txmin, ymin = gdf.bounds.minx.values[0], gdf.bounds.miny.values[0]\n",
    "\txmax, ymax = gdf.bounds.maxx.values[0], gdf.bounds.maxy.values[0]\n",
    "\tnrows, ncols = array.shape\n",
    "\txres = (xmax-xmin)/float(ncols)\n",
    "\tyres = (ymax-ymin)/float(nrows)\n",
    "\tgeotransform =(xmin,xres,0,ymax,0, -yres)   \n",
    "\n",
    "\toutput_raster = gdal.GetDriverByName('GTiff').Create(outfn,ncols, nrows, 1 , gdal.GDT_Float32)  # Open the file\n",
    "\toutput_raster.SetGeoTransform(geotransform)  # Specify coords\n",
    "\tsrs = osr.SpatialReference()                 # Establish encoding\n",
    "\tsrs.ImportFromEPSG(4326)                     # WGS84 lat long\n",
    "\toutput_raster.SetProjection(srs.ExportToWkt() )   # Export coordinate system \n",
    "\toutput_raster.GetRasterBand(1).WriteArray(array)   # Write array to raster\n",
    "\n",
    "\tprint(\"wrote {}\".format(outfn))\n",
    "\treturn outfn\n"
   ]
  },
  {
   "cell_type": "code",
   "execution_count": 3,
   "id": "68bf1cc1",
   "metadata": {},
   "outputs": [],
   "source": [
    "gdf = gp.read_file(\"../shape/sierra_catchments.shp\")\n",
    "stids = list(gdf['stid'].values)\n",
    "\n",
    "# Define outdirs\n",
    "results_dir = \"../results/wshed_means\"\n",
    "outdir = os.path.join(results_dir,\"merged\")\n",
    "clipdir = os.path.join(results_dir,\"clipped\")\n",
    "\n",
    "if not os.path.exists(results_dir):\n",
    "    os.mkdir(results_dir)\n",
    "\n",
    "if not os.path.exists(outdir):\n",
    "    os.mkdir(outdir)\n",
    "    \n",
    "if not os.path.exists(clipdir):\n",
    "    os.mkdir(clipdir)\n"
   ]
  },
  {
   "cell_type": "code",
   "execution_count": null,
   "id": "214ee6a1",
   "metadata": {},
   "outputs": [
    {
     "name": "stderr",
     "output_type": "stream",
     "text": [
      "/var/folders/zd/rjxfh38941s3dn35jv9cdgmw0000gn/T/ipykernel_22666/1542526255.py:4: RuntimeWarning: Mean of empty slice\n",
      "  annual_smean = np.nanmean(smlt_arr* 100, axis = 2) * 365.\n",
      "/var/folders/zd/rjxfh38941s3dn35jv9cdgmw0000gn/T/ipykernel_22666/1542526255.py:5: RuntimeWarning: Mean of empty slice\n",
      "  annual_pmean = np.nanmean(prcp_arr, axis = 2) * 365.\n",
      "/opt/anaconda3/envs/plotting/lib/python3.9/site-packages/osgeo/gdal.py:287: FutureWarning: Neither gdal.UseExceptions() nor gdal.DontUseExceptions() has been explicitly called. In GDAL 4.0, exceptions will be enabled by default.\n",
      "  warnings.warn(\n"
     ]
    },
    {
     "name": "stdout",
     "output_type": "stream",
     "text": [
      "wrote ../results/wshed_means/SJF_prcp.tiff\n",
      "wrote ../results/wshed_means/SJF_smlt.tiff\n",
      "wrote ../results/wshed_means/TLG_prcp.tiff\n",
      "wrote ../results/wshed_means/TLG_smlt.tiff\n",
      "wrote ../results/wshed_means/ISB_prcp.tiff\n",
      "wrote ../results/wshed_means/ISB_smlt.tiff\n",
      "wrote ../results/wshed_means/NAT_prcp.tiff\n",
      "wrote ../results/wshed_means/NAT_smlt.tiff\n",
      "wrote ../results/wshed_means/MHB_prcp.tiff\n",
      "wrote ../results/wshed_means/MHB_smlt.tiff\n",
      "wrote ../results/wshed_means/NML_prcp.tiff\n",
      "wrote ../results/wshed_means/NML_smlt.tiff\n",
      "wrote ../results/wshed_means/ORO_prcp.tiff\n",
      "wrote ../results/wshed_means/ORO_smlt.tiff\n",
      "wrote ../results/wshed_means/TRM_prcp.tiff\n",
      "wrote ../results/wshed_means/TRM_smlt.tiff\n",
      "wrote ../results/wshed_means/MKM_prcp.tiff\n",
      "wrote ../results/wshed_means/MKM_smlt.tiff\n",
      "wrote ../results/wshed_means/SCC_prcp.tiff\n",
      "wrote ../results/wshed_means/SCC_smlt.tiff\n",
      "wrote ../results/wshed_means/PNF_prcp.tiff\n",
      "wrote ../results/wshed_means/PNF_smlt.tiff\n",
      "wrote ../results/wshed_means/EXC_prcp.tiff\n",
      "wrote ../results/wshed_means/EXC_smlt.tiff\n",
      "wrote ../results/wshed_means/NHG_prcp.tiff\n",
      "wrote ../results/wshed_means/NHG_smlt.tiff\n",
      "wrote ../results/wshed_means/YRS_prcp.tiff\n",
      "wrote ../results/wshed_means/YRS_smlt.tiff\n"
     ]
    }
   ],
   "source": [
    "for stid in stids:\n",
    "    smlt_arr = np.load(\"../data/Watersheds/smlt/{}_smlt.npy\".format(stid))\n",
    "    prcp_arr = np.load(\"../data/Watersheds/prcp/{}_prcp.npy\".format(stid))\n",
    "    annual_smean = np.nanmean(smlt_arr* 100, axis = 2) * 365.\n",
    "    annual_pmean = np.nanmean(prcp_arr, axis = 2) * 365.\n",
    "    \n",
    "    stn_gdf = gp.read_file(\"../shape/{}.shp\".format(stid))\n",
    "    \n",
    "    write_raster(annual_pmean,stn_gdf,os.path.join(results_dir,\"{}_prcp.tiff\".format(stid)))\n",
    "    write_raster(annual_smean,stn_gdf,os.path.join(results_dir,\"{}_smlt.tiff\".format(stid)))\n"
   ]
  },
  {
   "cell_type": "code",
   "execution_count": null,
   "id": "70bb14c3",
   "metadata": {},
   "outputs": [],
   "source": [
    "# Clip by watershed into the clipped dir\n",
    "for stn_id in stids[:]:\n",
    "    \n",
    "    print(\"****\" * 15)\n",
    "    print(\"PROCESSING : {}\".format(stn_id))\n",
    "    print(\"****\" * 15)\n",
    "\n",
    "    # get shapefile \n",
    "    catch_shp = os.path.abspath(\"../shape/{}.shp\".format(stn_id))\n",
    "    \n",
    "    # Get files matching the wshed \n",
    "    wshed_files = [os.path.join(results_dir,x) for x in os.listdir(results_dir) if stn_id in x]\n",
    "    wshed_files = [os.path.abspath(x) for x in wshed_files]\n",
    "    \n",
    "    for fn in wshed_files:\n",
    "        varfn = os.path.split(fn)[1]\n",
    "        outfn = os.path.join(clipdir,varfn) \n",
    "        if not os.path.exists(outfn):\n",
    "            cmd = '''gdalwarp -dstnodata -999 -cutline {} -crop_to_cutline {} {}'''.format(catch_shp, fn, outfn)\n",
    "            os.system(cmd)\n",
    "    print(\"DONE ---\")\n",
    "\n"
   ]
  },
  {
   "cell_type": "code",
   "execution_count": null,
   "id": "74dc8af4",
   "metadata": {},
   "outputs": [],
   "source": [
    "# Merge files \n",
    "\n",
    "prcp_files = [os.path.join(clipdir,x) for x in os.listdir(clipdir) if \"prcp\" in x]\n",
    "\n",
    "# merge and write \n",
    "prcp_merged_fn = os.path.join(outdir,\"prcp.tiff\")\n",
    "if not os.path.exists(prcp_merged_fn):\n",
    "    g_prcp = gdal.Warp(prcp_merged_fn, prcp_files, format=\"GTiff\")\n",
    "    g_prcp = None # Close file\n",
    "    print(\"WROTE {}\".format(prcp_merged_fn))"
   ]
  },
  {
   "cell_type": "code",
   "execution_count": null,
   "id": "51d76ec7",
   "metadata": {},
   "outputs": [],
   "source": [
    "smlt_files = [os.path.join(clipdir,x) for x in os.listdir(clipdir) if \"smlt\" in x]\n",
    "\n",
    "smlt_merged_fn = os.path.join(outdir,\"smlt.tiff\")\n",
    "if not os.path.exists(smlt_merged_fn):\n",
    "    g_prcp = gdal.Warp(smlt_merged_fn, smlt_files, format=\"GTiff\")\n",
    "    g_prcp = None # Close file\n",
    "    print(\"WROTE {}\".format(smlt_merged_fn))\n"
   ]
  },
  {
   "cell_type": "code",
   "execution_count": null,
   "id": "1d1026f3",
   "metadata": {},
   "outputs": [],
   "source": [
    "s = rio.open(\"../results/wshed_means/merged/smlt.tiff\")\n",
    "s2 = s.read(1)\n",
    "s2[s2 == s.nodata] = np.nan\n",
    "import matplotlib.pyplot as plt\n",
    "plt.imshow(s2); plt.colorbar(); plt.show()"
   ]
  },
  {
   "cell_type": "code",
   "execution_count": null,
   "id": "ab99810b",
   "metadata": {},
   "outputs": [],
   "source": [
    "# ELEVATION ANALYSIS \n",
    "\n",
    "# Read elevation contours we made \n",
    "cont_gdf = gp.read_file(\"../shape/contours_500m.shp\")\n",
    "cont_gdf['elev'] = np.linspace(250,4750,10) # [int(x) * 500 for x in gdf['ID']] \n",
    "\n",
    "# Set alpha val in cmap\n",
    "cmap = plt.get_cmap('viridis')\n",
    "cmap.set_under('k', alpha=0)\n",
    "\n",
    "# plot with watersehds \n",
    "ax = cont_gdf.plot(figsize = (12,8), column= 'elev',cmap = cmap, legend = True, vmin = 751)\n",
    "plt.title('500m elevation contours ')\n",
    "gp.read_file(\"../shape/sierra_catchments.shp\").plot(ax = ax, facecolor = \"none\", edgecolor = 'black')"
   ]
  },
  {
   "cell_type": "code",
   "execution_count": null,
   "id": "2c9b221a",
   "metadata": {},
   "outputs": [],
   "source": [
    "# Define the 500m contour interval \n",
    "heights = np.linspace(0,5000,11)\n",
    "heights = [\"{} - {}\".format(str(x-500), str(x)) for x in heights]\n",
    "heights[0] = \"<0\"\n",
    "\n",
    "median_hts = np.linspace(250,4750,10)\n",
    "\n",
    "# Read each contour interval shape\n",
    "with fiona.open(\"../shape/contours_500m.shp\", \"r\") as shapefile:\n",
    "    shapes = [feature[\"geometry\"] for feature in shapefile]\n",
    "\n",
    "len(shapes), len(median_hts)\n"
   ]
  },
  {
   "cell_type": "code",
   "execution_count": null,
   "id": "3c63ab16",
   "metadata": {},
   "outputs": [],
   "source": []
  }
 ],
 "metadata": {
  "kernelspec": {
   "display_name": "Python 3 (ipykernel)",
   "language": "python",
   "name": "python3"
  },
  "language_info": {
   "codemirror_mode": {
    "name": "ipython",
    "version": 3
   },
   "file_extension": ".py",
   "mimetype": "text/x-python",
   "name": "python",
   "nbconvert_exporter": "python",
   "pygments_lexer": "ipython3",
   "version": "3.9.18"
  }
 },
 "nbformat": 4,
 "nbformat_minor": 5
}
